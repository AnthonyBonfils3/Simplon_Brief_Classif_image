{
  "nbformat": 4,
  "nbformat_minor": 0,
  "metadata": {
    "kernelspec": {
      "language": "python",
      "display_name": "Python 3",
      "name": "python3"
    },
    "language_info": {
      "pygments_lexer": "ipython3",
      "nbconvert_exporter": "python",
      "version": "3.6.4",
      "file_extension": ".py",
      "codemirror_mode": {
        "name": "ipython",
        "version": 3
      },
      "name": "python",
      "mimetype": "text/x-python"
    },
    "colab": {
      "name": "Annimal_face_CNN_pytorch.ipynb",
      "private_outputs": true,
      "provenance": [],
      "collapsed_sections": []
    },
    "accelerator": "GPU"
  },
  "cells": [
    {
      "cell_type": "markdown",
      "metadata": {
        "id": "Jx2hi10Ib7Sk"
      },
      "source": [
        "### Simple CNN with Pytorch"
      ]
    },
    {
      "cell_type": "code",
      "metadata": {
        "id": "VQDCVcIcfYVH"
      },
      "source": [
        "!ln -sf /opt/bin/nvidia-smi /usr/bin/nvidia-smi\n",
        "import subprocess\n",
        "print(subprocess.getoutput('nvidia-smi'))"
      ],
      "execution_count": null,
      "outputs": []
    },
    {
      "cell_type": "code",
      "metadata": {
        "id": "TRH_HpqMhkWl"
      },
      "source": [
        "!cat /etc/*-release"
      ],
      "execution_count": null,
      "outputs": []
    },
    {
      "cell_type": "code",
      "metadata": {
        "id": "cncI-NuZjWyz"
      },
      "source": [
        "!pip install gputil\n",
        "!pip install psutil\n",
        "!pip install humanize"
      ],
      "execution_count": null,
      "outputs": []
    },
    {
      "cell_type": "code",
      "metadata": {
        "id": "FY8sgTv_ht-c"
      },
      "source": [
        "# Import packages\n",
        "import os,sys,humanize,psutil,GPUtil\n",
        "\n",
        "# Define function\n",
        "def mem_report():\n",
        "  print(\"CPU RAM Free: \" + humanize.naturalsize( psutil.virtual_memory().available ))\n",
        "  \n",
        "  GPUs = GPUtil.getGPUs()\n",
        "  for i, gpu in enumerate(GPUs):\n",
        "    print('GPU {:d} ... Mem Free: {:.0f}MB / {:.0f}MB | Utilization {:3.0f}%'.format(i, gpu.memoryFree, gpu.memoryTotal, gpu.memoryUtil*100))\n",
        "    \n",
        "# Execute function\n",
        "mem_report()"
      ],
      "execution_count": null,
      "outputs": []
    },
    {
      "cell_type": "code",
      "metadata": {
        "_uuid": "8f2839f25d086af736a60e9eeb907d3b93b6e0e5",
        "_cell_guid": "b1076dfc-b9ad-4769-8c92-a6c4dae69d19",
        "trusted": true,
        "id": "QOmyECGXb7S-"
      },
      "source": [
        "import os\n",
        "import shutil\n",
        "import numpy as np \n",
        "import pandas as pd\n",
        "import seaborn as sns\n",
        "from tqdm import tqdm\n",
        "import matplotlib.pyplot as plt\n",
        "\n",
        "import torch\n",
        "import torchvision\n",
        "from torch import nn\n",
        "import torch.optim as optim\n",
        "from torch.utils import data\n",
        "from torchvision import transforms\n",
        "import torch.nn.functional as F\n",
        "from sklearn.metrics import confusion_matrix"
      ],
      "execution_count": null,
      "outputs": []
    },
    {
      "cell_type": "code",
      "metadata": {
        "id": "11Wq2-gccOn0"
      },
      "source": [
        "from google.colab import drive\n",
        "drive.mount._DEBUG = True\n",
        "drive.mount('/content/gdrive', force_remount=True)\n",
        "# root_path = 'gdrive/My Drive/Colab Notebooks/Classif_img_CNN/datas/'\n",
        "root_path = 'gdrive/My Drive/Formation simplon/Brief_image_classif_CNN/datas/'"
      ],
      "execution_count": null,
      "outputs": []
    },
    {
      "cell_type": "code",
      "metadata": {
        "id": "1uG0wdNicjZu"
      },
      "source": [
        "file = ''.join(root_path+'AnimalFace.zip')\n",
        "file"
      ],
      "execution_count": null,
      "outputs": []
    },
    {
      "cell_type": "code",
      "metadata": {
        "id": "XW--EFebcmoh"
      },
      "source": [
        "!mkdir datas\n",
        "import zipfile\n",
        "with zipfile.ZipFile(file,\"r\") as zip_ref:\n",
        "    zip_ref.extractall(\"datas\")"
      ],
      "execution_count": null,
      "outputs": []
    },
    {
      "cell_type": "code",
      "metadata": {
        "id": "QMBwJR48FdGY"
      },
      "source": [
        "IMG_SIZE = 128"
      ],
      "execution_count": null,
      "outputs": []
    },
    {
      "cell_type": "code",
      "metadata": {
        "trusted": true,
        "id": "-hkTjPdab7TD"
      },
      "source": [
        "# train folders\n",
        "os.mkdir('/content/datas/train/')\n",
        "for img_class in os.listdir(\"/content/datas/Image\"):\n",
        "    os.mkdir('/content/datas/train/' + img_class[:-4] + '/')"
      ],
      "execution_count": null,
      "outputs": []
    },
    {
      "cell_type": "code",
      "metadata": {
        "trusted": true,
        "id": "CzTYtXXlb7TG"
      },
      "source": [
        "# test folders\n",
        "os.mkdir('/content/datas/test/')\n",
        "for img_class in os.listdir(\"/content/datas/Image\"):\n",
        "    os.mkdir('/content/datas/test/' + img_class[:-4] + '/')"
      ],
      "execution_count": null,
      "outputs": []
    },
    {
      "cell_type": "code",
      "metadata": {
        "trusted": true,
        "id": "lk-JOEK1b7TK"
      },
      "source": [
        "# form train dataset\n",
        "for img_class in tqdm(os.listdir('/content/datas/Image/')):\n",
        "    img_ls = os.listdir('/content/datas/Image/' + img_class)\n",
        "    for img in img_ls[:int(len(img_ls) * 0.8)]:\n",
        "        shutil.copy('/content/datas/Image/' + img_class + '/' + img, \n",
        "                    '/content/datas/train/' + img_class[:-4] + '/' + img)"
      ],
      "execution_count": null,
      "outputs": []
    },
    {
      "cell_type": "code",
      "metadata": {
        "trusted": true,
        "id": "5wBEsyy1b7TT"
      },
      "source": [
        "# form test dataset\n",
        "for img_class in tqdm(os.listdir('/content/datas/Image/')):\n",
        "    img_ls = os.listdir('/content/datas/Image/' + img_class)\n",
        "    for img in img_ls[int(len(img_ls) * 0.8):]:\n",
        "        shutil.copy('/content/datas/Image/' + img_class + '/' + img, \n",
        "                    '/content/datas/test/' + img_class[:-4] + '/' + img)"
      ],
      "execution_count": null,
      "outputs": []
    },
    {
      "cell_type": "code",
      "metadata": {
        "trusted": true,
        "id": "wOiu1WOdb7TV"
      },
      "source": [
        "train_data_path = \"/content/datas/train/\"\n",
        "test_data_path = \"/content/datas/test/\"\n",
        "\n",
        "transform = transforms.Compose([\n",
        "    transforms.Resize((IMG_SIZE,IMG_SIZE)),\n",
        "    transforms.ToTensor(),\n",
        "    transforms.Normalize(mean=[0.485, 0.456, 0.406],\n",
        "                        std=[0.229, 0.224, 0.225])\n",
        "    ])\n",
        "\n",
        "# this function get folder with images\n",
        "train_data = torchvision.datasets.ImageFolder(root=train_data_path,\n",
        "                                              transform=transform)\n",
        "\n",
        "test_data = torchvision.datasets.ImageFolder(root=test_data_path,\n",
        "                                             transform=transform)"
      ],
      "execution_count": null,
      "outputs": []
    },
    {
      "cell_type": "code",
      "metadata": {
        "trusted": true,
        "id": "dcHUkexob7TZ"
      },
      "source": [
        "batch_size=64\n",
        "train_data_loader = data.DataLoader(train_data, shuffle=True,\n",
        "                                    batch_size=batch_size)\n",
        "\n",
        "test_data_loader  = data.DataLoader(test_data, shuffle=True, \n",
        "                                    batch_size=batch_size)"
      ],
      "execution_count": null,
      "outputs": []
    },
    {
      "cell_type": "code",
      "metadata": {
        "id": "u1Dc42c-o178"
      },
      "source": [
        "class_names = train_data.classes"
      ],
      "execution_count": null,
      "outputs": []
    },
    {
      "cell_type": "markdown",
      "metadata": {
        "id": "yMsXCruL17Yv"
      },
      "source": [
        "## Create the model"
      ]
    },
    {
      "cell_type": "code",
      "metadata": {
        "trusted": true,
        "id": "xP66uCwmb7Tb"
      },
      "source": [
        "import torch\n",
        "import torch.nn as nn\n",
        "import torch.nn.functional as F\n",
        "\n",
        "class CNN(nn.Module): \n",
        "    def __init__(self):\n",
        "        super(CNN, self).__init__()\n",
        "        self.conv1 = nn.Conv2d(in_channels=3, out_channels=10, kernel_size=3)\n",
        "        self.conv2 = nn.Conv2d(10, 20, kernel_size=3)\n",
        "        self.conv2_drop = nn.Dropout2d()\n",
        "        self.fc1 = nn.Linear(20*30*30, 1024)\n",
        "        self.fc2 = nn.Linear(1024, len(class_names))\n",
        "\n",
        "    def forward(self, x):\n",
        "        x = F.relu(F.max_pool2d(self.conv1(x), 2))\n",
        "        #print(\"STEP 1 :\", x.shape)\n",
        "        x = F.relu(F.max_pool2d(self.conv2_drop(self.conv2(x)), 2))\n",
        "        #print(\"STEP 2 :\", x.shape)\n",
        "        x = x.view(x.shape[0],-1)\n",
        "        #print(\"STEP 3 :\", x.shape)\n",
        "        x = F.relu(self.fc1(x))\n",
        "        #print(\"STEP 4 :\", x.shape)\n",
        "        x = F.dropout(x, training=self.training)\n",
        "        #print(\"STEP 5 : \", x.shape)\n",
        "        x = self.fc2(x)\n",
        "        return x"
      ],
      "execution_count": null,
      "outputs": []
    },
    {
      "cell_type": "markdown",
      "metadata": {
        "id": "ZeczO2DX2DSF"
      },
      "source": [
        "## Optimizer "
      ]
    },
    {
      "cell_type": "code",
      "metadata": {
        "id": "s5KdiEyq2Xrh"
      },
      "source": [
        "if torch.cuda.is_available():\n",
        "    device = torch.device(\"cuda\")\n",
        "    print(f\"device : {device} (gpu)\")\n",
        "else:\n",
        "    device = torch.device(\"cpu\")\n",
        "    print(f\"device : {device}\")"
      ],
      "execution_count": null,
      "outputs": []
    },
    {
      "cell_type": "code",
      "metadata": {
        "id": "ssdNRV451wry"
      },
      "source": [
        "learning_rate = 0.001\n",
        "\n",
        "model = CNN().to(device)\n",
        "criterion = nn.CrossEntropyLoss()\n",
        "optimizer = torch.optim.Adam(model.parameters(),lr = learning_rate)\n",
        "print(model)"
      ],
      "execution_count": null,
      "outputs": []
    },
    {
      "cell_type": "markdown",
      "metadata": {
        "id": "RaRXd2LS3OKZ"
      },
      "source": [
        "## entreinement"
      ]
    },
    {
      "cell_type": "code",
      "metadata": {
        "trusted": true,
        "id": "MDjd0iqNb7Td"
      },
      "source": [
        "model.to(device)\n",
        "# add optimizer\n",
        "optimizer = optim.Adam(model.parameters(), lr=learning_rate, amsgrad=True)\n",
        "epochs = 50\n",
        "loss_fn = torch.nn.CrossEntropyLoss()\n",
        "loss_lst, loss_val_lst = [], []\n",
        "\n",
        "for epoch in range(epochs):\n",
        "    training_loss = 0.0\n",
        "    valid_loss = 0.0\n",
        "    model.train()\n",
        "    for batch in train_data_loader:\n",
        "        optimizer.zero_grad()\n",
        "        inputs, target = batch\n",
        "        inputs = inputs.to(device)\n",
        "        target = target.to(device)\n",
        "        # ## debugg\n",
        "        # model.forward(inputs)\n",
        "        output = model(inputs)\n",
        "        \n",
        "        loss = loss_fn(output, target)\n",
        "        loss.backward()\n",
        "        optimizer.step()\n",
        "        training_loss += loss.data.item()\n",
        "    loss_lst.append(training_loss)\n",
        "\n",
        "    model.eval()\n",
        "    num_correct = 0\n",
        "    num_examples = 0\n",
        "    for batch in test_data_loader:\n",
        "        inputs, targets = batch\n",
        "        inputs = inputs.to(device)\n",
        "        output = model(inputs)\n",
        "        targets = targets.to(device)\n",
        "        loss = loss_fn(output,targets)\n",
        "        valid_loss += loss.data.item()\n",
        "        correct = torch.eq(torch.max(F.softmax(output), dim=1)[1],\n",
        "                        targets).view(-1)\n",
        "        num_correct += torch.sum(correct).item()\n",
        "        num_examples += correct.shape[0]\n",
        "    loss_val_lst.append(valid_loss)\n",
        "\n",
        "    print('Epoch: {}, Training Loss: {:.2f}, \\\n",
        "        Validation Loss: {:.2f}, \\\n",
        "        accuracy = {:.2f}'.format(epoch, training_loss, \\\n",
        "        valid_loss, num_correct / num_examples))"
      ],
      "execution_count": null,
      "outputs": []
    },
    {
      "cell_type": "code",
      "metadata": {
        "trusted": true,
        "id": "AGM216FBb7Tg"
      },
      "source": [
        "plt.figure(figsize=[12, 8])\n",
        "plt.plot(range(len(loss_lst)), loss_lst, label='Training loss')\n",
        "plt.plot(range(len(loss_val_lst)), loss_val_lst, label='Validation loss')\n",
        "plt.xlabel('epochs')\n",
        "plt.ylabel('loss')\n",
        "plt.legend(frameon=False)"
      ],
      "execution_count": null,
      "outputs": []
    },
    {
      "cell_type": "code",
      "metadata": {
        "id": "rWB386R8ZRIa"
      },
      "source": [
        "# test-the-model\n",
        "model.eval()  # it-disables-dropout\n",
        "with torch.no_grad():\n",
        "    correct = 0\n",
        "    total = 0\n",
        "    for images, labels in test_data_loader:\n",
        "        images = images.to(device)\n",
        "        labels = labels.to(device)\n",
        "        outputs = model(images)\n",
        "        _, predicted = torch.max(outputs.data, 1)\n",
        "        total += labels.size(0)\n",
        "        correct += (predicted == labels).sum().item()\n",
        "          \n",
        "    print('Test Accuracy of the model: {} %'.format(100 * correct / total))\n",
        "\n",
        "# Specify a path to save to\n",
        "PATH = \"/content/gdrive/MyDrive/Formation simplon/Brief_image_classif_CNN/CNN_simple_pytorch.pt\"\n",
        "\n",
        "# Save\n",
        "torch.save(model.state_dict(), PATH)"
      ],
      "execution_count": null,
      "outputs": []
    },
    {
      "cell_type": "markdown",
      "metadata": {
        "id": "6p2EobZIb7Tt"
      },
      "source": [
        "### Confusion matrix"
      ]
    },
    {
      "cell_type": "code",
      "metadata": {
        "trusted": true,
        "id": "r0BIZ3-ob7Tu"
      },
      "source": [
        "all_output = np.array([])\n",
        "all_targets = np.array([])\n",
        "\n",
        "for batch in tqdm(test_data_loader):\n",
        "    inputs, targets = batch\n",
        "    inputs = inputs.to(device)\n",
        "    output = model(inputs)\n",
        "    all_output = np.concatenate([all_output, output.max(dim=1).indices.cpu().numpy()])\n",
        "    all_targets = np.concatenate([all_targets, targets.numpy()])"
      ],
      "execution_count": null,
      "outputs": []
    },
    {
      "cell_type": "code",
      "metadata": {
        "trusted": true,
        "id": "NVwMjiFFb7Tw"
      },
      "source": [
        "# plot confusion matrix\n",
        "conf_matr = confusion_matrix(all_output, \n",
        "                             all_targets)\n",
        "import itertools\n",
        "def plot_confusion_matrix(cm, labels,\n",
        "                          normalize=True,\n",
        "                          title='Confusion Matrix (Validation Set)',\n",
        "                          cmap=plt.cm.Blues):\n",
        "    \"\"\"\n",
        "    This function prints and plots the confusion matrix.\n",
        "    Normalization can be applied by setting `normalize=True`.\n",
        "    \"\"\"\n",
        "    if normalize:\n",
        "        cm = cm.astype('float') / cm.sum(axis=1)[:, np.newaxis]\n",
        "        #print(\"Normalized confusion matrix\")\n",
        "    else:\n",
        "        #print('Confusion matrix, without normalization')\n",
        "        pass\n",
        "\n",
        "    #print(cm)\n",
        "\n",
        "    plt.imshow(cm, interpolation='nearest', cmap=cmap)\n",
        "    plt.title(title)\n",
        "    plt.colorbar()\n",
        "    tick_marks = np.arange(len(labels))\n",
        "    plt.xticks(tick_marks, labels, rotation=45)\n",
        "    plt.yticks(tick_marks, labels)\n",
        "\n",
        "    fmt = '.2f' if normalize else 'd'\n",
        "    thresh = cm.max() / 2.\n",
        "    for i, j in itertools.product(range(cm.shape[0]), range(cm.shape[1])):\n",
        "        plt.text(j, i, format(cm[i, j], fmt),\n",
        "                 horizontalalignment=\"center\",\n",
        "                 color=\"white\" if cm[i, j] > thresh else \"black\")\n",
        "\n",
        "    plt.tight_layout()\n",
        "    plt.ylabel('True label')\n",
        "    plt.xlabel('Predicted label')\n",
        "    #plt.savefig('./figures/conf_matrix.png')\n",
        "\n",
        "plt.figure(figsize=(20,10))\n",
        "plot_confusion_matrix(conf_matr, labels=class_names, cmap='viridis')"
      ],
      "execution_count": null,
      "outputs": []
    },
    {
      "cell_type": "code",
      "metadata": {
        "id": "G-jrrnEysAfS"
      },
      "source": [
        "from skimage.transform import resize\n",
        "from google.colab import files\n",
        "image = files.upload()\n",
        "print(image.keys())\n",
        "for k, v in image.items(): pass"
      ],
      "execution_count": null,
      "outputs": []
    },
    {
      "cell_type": "code",
      "metadata": {
        "id": "ZSd8O5LYEuMw"
      },
      "source": [
        "from skimage.io import imread\n",
        "from skimage.transform import resize\n",
        "im = imread(k) # 333636a798.jpeg ## fda9a545f5.jpeg\n",
        "im = resize(im, (IMG_SIZE, IMG_SIZE))\n",
        "plt.imshow(im)\n",
        "plt.axis('off')"
      ],
      "execution_count": null,
      "outputs": []
    },
    {
      "cell_type": "code",
      "metadata": {
        "id": "1XjVJUhbLyLA"
      },
      "source": [
        "from torch.autograd import Variable\n",
        "from PIL import Image\n",
        "\n",
        "# An instance of your model.\n",
        "img_pil = Image.open(k)\n",
        "#img_pil.show()\n",
        "img_tensor = transform(img_pil).float()\n",
        "img_tensor = img_tensor.unsqueeze(0)\n",
        "img_tensor = img_tensor.cuda()\n",
        "\n",
        "fc_out = model(Variable(img_tensor))\n",
        "\n",
        "output = fc_out.cpu().detach().numpy()\n",
        "print(class_names[output.argmax()])"
      ],
      "execution_count": null,
      "outputs": []
    },
    {
      "cell_type": "code",
      "metadata": {
        "id": "NVvPXB8SnT-_"
      },
      "source": [
        ""
      ],
      "execution_count": null,
      "outputs": []
    }
  ]
}